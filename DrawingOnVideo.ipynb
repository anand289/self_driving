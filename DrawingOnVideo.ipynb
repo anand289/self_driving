{
 "cells": [
  {
   "cell_type": "code",
   "execution_count": 1,
   "id": "b6f4f6ed-ed81-464a-a3dd-fff79de22608",
   "metadata": {},
   "outputs": [],
   "source": [
    "import cv2"
   ]
  },
  {
   "cell_type": "code",
   "execution_count": 2,
   "id": "c43be0df-22bc-4e31-a92d-0153c5b713a1",
   "metadata": {},
   "outputs": [],
   "source": [
    "cap = cv2.VideoCapture(1)"
   ]
  },
  {
   "cell_type": "code",
   "execution_count": null,
   "id": "c6dbf31e-e43d-4e25-a9bd-8f8933ffcc7a",
   "metadata": {},
   "outputs": [],
   "source": [
    "width - int(cap.get(cv2.CAP_PROP_FRAME_WIDTH))"
   ]
  }
 ],
 "metadata": {
  "kernelspec": {
   "display_name": "Python 3 (ipykernel)",
   "language": "python",
   "name": "python3"
  },
  "language_info": {
   "codemirror_mode": {
    "name": "ipython",
    "version": 3
   },
   "file_extension": ".py",
   "mimetype": "text/x-python",
   "name": "python",
   "nbconvert_exporter": "python",
   "pygments_lexer": "ipython3",
   "version": "3.9.13"
  }
 },
 "nbformat": 4,
 "nbformat_minor": 5
}

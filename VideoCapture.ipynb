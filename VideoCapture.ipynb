{
 "cells": [
  {
   "cell_type": "code",
   "execution_count": 129,
   "id": "cdf01796-167c-4882-86cc-29bcf279aeea",
   "metadata": {},
   "outputs": [],
   "source": [
    "# to access the built-in pc camara"
   ]
  },
  {
   "cell_type": "code",
   "execution_count": 130,
   "id": "13a5ae05-e5e4-47b3-9a09-c4674781a9d0",
   "metadata": {},
   "outputs": [],
   "source": [
    "import cv2"
   ]
  },
  {
   "cell_type": "code",
   "execution_count": 131,
   "id": "5863af7a-52da-4381-ba3f-8f309d875b24",
   "metadata": {},
   "outputs": [],
   "source": [
    "cap_device = 1\n",
    "cap = cv2.VideoCapture(cap_device)"
   ]
  },
  {
   "cell_type": "code",
   "execution_count": 132,
   "id": "274c7f1d-5f70-4082-af6c-87125e8cf5b5",
   "metadata": {},
   "outputs": [],
   "source": [
    "width = int(cap.get(cv2.CAP_PROP_FRAME_WIDTH))\n",
    "height = int(cap.get(cv2.CAP_PROP_FRAME_HEIGHT))\n",
    "#frame_rate = int(cap.get(cv2.CAP_PROP_FRAME_COUNT))"
   ]
  },
  {
   "cell_type": "code",
   "execution_count": 133,
   "id": "88a6846e-20fd-430e-949d-37daf517438c",
   "metadata": {},
   "outputs": [
    {
     "name": "stderr",
     "output_type": "stream",
     "text": [
      "OpenCV: FFMPEG: tag 0x44495658/'XVID' is not supported with codec id 12 and format 'mp4 / MP4 (MPEG-4 Part 14)'\n",
      "OpenCV: FFMPEG: fallback to use tag 0x7634706d/'mp4v'\n"
     ]
    }
   ],
   "source": [
    "writer = cv2.VideoWriter('myvideo.mp4', cv2.VideoWriter_fourcc(*'XVID'),10, (width, height))"
   ]
  },
  {
   "cell_type": "code",
   "execution_count": 134,
   "id": "6565ca35-8aab-4eab-abbb-39bbb7e6bab3",
   "metadata": {},
   "outputs": [
    {
     "data": {
      "text/plain": [
       "-1"
      ]
     },
     "execution_count": 134,
     "metadata": {},
     "output_type": "execute_result"
    }
   ],
   "source": [
    "while True:\n",
    "    ret, frame = cap.read()\n",
    "    \n",
    "    # OPERATIONS (DRAWING)\n",
    "    writer.write(frame)\n",
    "    \n",
    "    \n",
    " #   gray = cv2.cvtColor(frame, cv2.COLOR_BGR2GRAY)\n",
    "\n",
    "    cv2.imshow('frame',frame)\n",
    "    \n",
    "    if cv2.waitKey(1)&0xFF == ord('q'):\n",
    "        break\n",
    "        \n",
    "cap.release()\n",
    "writer.release()\n",
    "cv2.destroyAllWindows()\n",
    "cv2.waitKey(1)"
   ]
  }
 ],
 "metadata": {
  "kernelspec": {
   "display_name": "Python 3 (ipykernel)",
   "language": "python",
   "name": "python3"
  },
  "language_info": {
   "codemirror_mode": {
    "name": "ipython",
    "version": 3
   },
   "file_extension": ".py",
   "mimetype": "text/x-python",
   "name": "python",
   "nbconvert_exporter": "python",
   "pygments_lexer": "ipython3",
   "version": "3.9.13"
  }
 },
 "nbformat": 4,
 "nbformat_minor": 5
}

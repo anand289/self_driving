{
 "cells": [
  {
   "cell_type": "code",
   "execution_count": 1,
   "id": "dc6ff634-828f-4e88-abaf-e772f1362f57",
   "metadata": {},
   "outputs": [],
   "source": [
    "import cv2\n",
    "import time"
   ]
  },
  {
   "cell_type": "code",
   "execution_count": 3,
   "id": "0ff892c2-6f1b-499c-8f7a-a627119f5ad9",
   "metadata": {},
   "outputs": [
    {
     "name": "stderr",
     "output_type": "stream",
     "text": [
      "OpenCV: Couldn't read video stream from file \"aShortYouTubeVideo.mp4\"\n"
     ]
    }
   ],
   "source": [
    "cap = cv2.VideoCapture('AnyShortVideo.mp4')"
   ]
  },
  {
   "cell_type": "code",
   "execution_count": 4,
   "id": "8076160e-b992-4754-b63b-13740459d92d",
   "metadata": {},
   "outputs": [
    {
     "name": "stdout",
     "output_type": "stream",
     "text": [
      "ERROR FILE NOT FOUND OR WRONG CODEC USED\n"
     ]
    }
   ],
   "source": [
    "if cap.isOpened() == False:\n",
    "    print('ERROR FILE NOT FOUND OR WRONG CODEC USED')"
   ]
  },
  {
   "cell_type": "code",
   "execution_count": 5,
   "id": "5a18d59c-c804-4630-826e-03b906e4897e",
   "metadata": {},
   "outputs": [],
   "source": [
    "while cap.isOpened():\n",
    "    ret,frame = cap.read()\n",
    "    if ret == True:\n",
    "        \n",
    "        ##WRITER 20 FPS --> to show the video at the normal speed, we need to know the rate at whoch it was captured\n",
    "        #time.sleep(1/20) #--> assuming the video is captured at 20 FPS (Usually this line is not required for just processing videos)\n",
    "        \n",
    "        cv2.imshow('frame',frame)\n",
    "        \n",
    "        if cv2.waitKey(10) & 0xFF == ord('q'):\n",
    "            break\n",
    "            \n",
    "    else:\n",
    "        break\n",
    "        "
   ]
  },
  {
   "cell_type": "code",
   "execution_count": null,
   "id": "f44eeb73-d2dc-441b-959a-67df34181ebf",
   "metadata": {},
   "outputs": [],
   "source": [
    "cap.release()\n",
    "cv2.destroyAllWindows()\n",
    "cv2.waitKey(1)"
   ]
  }
 ],
 "metadata": {
  "kernelspec": {
   "display_name": "Python 3 (ipykernel)",
   "language": "python",
   "name": "python3"
  },
  "language_info": {
   "codemirror_mode": {
    "name": "ipython",
    "version": 3
   },
   "file_extension": ".py",
   "mimetype": "text/x-python",
   "name": "python",
   "nbconvert_exporter": "python",
   "pygments_lexer": "ipython3",
   "version": "3.9.13"
  }
 },
 "nbformat": 4,
 "nbformat_minor": 5
}

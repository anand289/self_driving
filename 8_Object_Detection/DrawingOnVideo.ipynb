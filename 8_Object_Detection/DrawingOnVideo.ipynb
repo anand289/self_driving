{
 "cells": [
  {
   "cell_type": "code",
   "execution_count": 15,
   "id": "b6f4f6ed-ed81-464a-a3dd-fff79de22608",
   "metadata": {},
   "outputs": [],
   "source": [
    "import cv2"
   ]
  },
  {
   "cell_type": "code",
   "execution_count": 20,
   "id": "c43be0df-22bc-4e31-a92d-0153c5b713a1",
   "metadata": {},
   "outputs": [],
   "source": [
    "cap = cv2.VideoCapture(1)"
   ]
  },
  {
   "cell_type": "code",
   "execution_count": 21,
   "id": "c6dbf31e-e43d-4e25-a9bd-8f8933ffcc7a",
   "metadata": {},
   "outputs": [],
   "source": [
    "width = int(cap.get(cv2.CAP_PROP_FRAME_WIDTH))\n",
    "height = int(cap.get(cv2.CAP_PROP_FRAME_HEIGHT))"
   ]
  },
  {
   "cell_type": "code",
   "execution_count": 22,
   "id": "5a890d7e-f3b1-4974-98ea-fb79d0036169",
   "metadata": {},
   "outputs": [],
   "source": [
    "# TOP LEFT CORNER\n",
    "x = width // 2 # // to ensure integer\n",
    "y = height // 2\n",
    "\n",
    "#Width and Height of RECTANGLE\n",
    "w = width // 4 # // to ensure integer\n",
    "h = height // 4\n",
    "\n",
    "# BOTTOM RIGHT x+w, y+h"
   ]
  },
  {
   "cell_type": "code",
   "execution_count": 23,
   "id": "7001a5b5-0099-470b-ba4d-200d5413326b",
   "metadata": {},
   "outputs": [
    {
     "data": {
      "text/plain": [
       "-1"
      ]
     },
     "execution_count": 23,
     "metadata": {},
     "output_type": "execute_result"
    }
   ],
   "source": [
    "while True:\n",
    "    \n",
    "    ret, frame = cap.read()\n",
    "    \n",
    "    cv2.rectangle(frame, (x,y), (x+w,y+h), color=(0,0,255),thickness = 4)\n",
    "    \n",
    "    cv2.imshow('frame',frame)\n",
    "    \n",
    "    if cv2.waitKey(1) & 0xFF == ord('q'):\n",
    "        break\n",
    "        \n",
    "cap.release()\n",
    "cv2.destroyAllWindows()\n",
    "cv2.waitKey(1)"
   ]
  },
  {
   "cell_type": "code",
   "execution_count": null,
   "id": "602bddf8-13d7-4159-8775-ae9d13f803a8",
   "metadata": {},
   "outputs": [],
   "source": []
  }
 ],
 "metadata": {
  "kernelspec": {
   "display_name": "Python 3 (ipykernel)",
   "language": "python",
   "name": "python3"
  },
  "language_info": {
   "codemirror_mode": {
    "name": "ipython",
    "version": 3
   },
   "file_extension": ".py",
   "mimetype": "text/x-python",
   "name": "python",
   "nbconvert_exporter": "python",
   "pygments_lexer": "ipython3",
   "version": "3.9.13"
  }
 },
 "nbformat": 4,
 "nbformat_minor": 5
}
